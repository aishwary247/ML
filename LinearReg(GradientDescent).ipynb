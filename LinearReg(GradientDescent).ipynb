{
  "nbformat": 4,
  "nbformat_minor": 0,
  "metadata": {
    "colab": {
      "provenance": [],
      "authorship_tag": "ABX9TyM2WERUrqZcNZdDEY0UzZS7",
      "include_colab_link": true
    },
    "kernelspec": {
      "name": "python3",
      "display_name": "Python 3"
    },
    "language_info": {
      "name": "python"
    }
  },
  "cells": [
    {
      "cell_type": "markdown",
      "metadata": {
        "id": "view-in-github",
        "colab_type": "text"
      },
      "source": [
        "<a href=\"https://colab.research.google.com/github/aishwary247/ML/blob/main/LinearReg(GradientDescent).ipynb\" target=\"_parent\"><img src=\"https://colab.research.google.com/assets/colab-badge.svg\" alt=\"Open In Colab\"/></a>"
      ]
    },
    {
      "cell_type": "code",
      "source": [
        "import numpy as np\n",
        "import pandas as pd\n",
        "import matplotlib.pyplot as plt"
      ],
      "metadata": {
        "id": "0YTFrKOMHM78"
      },
      "execution_count": null,
      "outputs": []
    },
    {
      "cell_type": "code",
      "source": [
        "df_X = pd.read_csv(\"/content/linearX.csv\")\n",
        "df_y = pd.read_csv(\"/content/linearY.csv\")"
      ],
      "metadata": {
        "id": "iFR6o5gHHgKh"
      },
      "execution_count": null,
      "outputs": []
    },
    {
      "cell_type": "code",
      "source": [
        "print(df_X.head())\n",
        "print(df_y.head())"
      ],
      "metadata": {
        "colab": {
          "base_uri": "https://localhost:8080/"
        },
        "id": "c5ulHZ4MHtKg",
        "outputId": "60010b80-7162-46e0-e852-6825844de19c"
      },
      "execution_count": null,
      "outputs": [
        {
          "output_type": "stream",
          "name": "stdout",
          "text": [
            "   9.1\n",
            "0  8.0\n",
            "1  9.1\n",
            "2  8.4\n",
            "3  6.9\n",
            "4  7.7\n",
            "   0.99523\n",
            "0  0.99007\n",
            "1  0.99769\n",
            "2  0.99386\n",
            "3  0.99508\n",
            "4  0.99630\n"
          ]
        }
      ]
    },
    {
      "cell_type": "code",
      "source": [
        "x = df_X.to_numpy()\n",
        "y = df_y.to_numpy()"
      ],
      "metadata": {
        "id": "XLxeb-2dOSRy"
      },
      "execution_count": null,
      "outputs": []
    },
    {
      "cell_type": "code",
      "source": [
        "x.shape, y.shape"
      ],
      "metadata": {
        "colab": {
          "base_uri": "https://localhost:8080/"
        },
        "id": "WDss2WgaOs2_",
        "outputId": "4ada831d-e231-452a-b5b0-e7d530cb89bc"
      },
      "execution_count": null,
      "outputs": [
        {
          "output_type": "execute_result",
          "data": {
            "text/plain": [
              "((99, 1), (99, 1))"
            ]
          },
          "metadata": {},
          "execution_count": 55
        }
      ]
    },
    {
      "cell_type": "code",
      "source": [
        "m = x.shape[0]\n",
        "ones = np.ones(m).reshape(-1,1)\n",
        "X = np.hstack((ones,x))\n",
        "X.shape"
      ],
      "metadata": {
        "colab": {
          "base_uri": "https://localhost:8080/"
        },
        "id": "19pEkeSAOLWv",
        "outputId": "61b593fa-2314-4c1b-c623-2e2be7c1afa9"
      },
      "execution_count": null,
      "outputs": [
        {
          "output_type": "execute_result",
          "data": {
            "text/plain": [
              "(99, 2)"
            ]
          },
          "metadata": {},
          "execution_count": 58
        }
      ]
    },
    {
      "cell_type": "code",
      "source": [
        "X[:5]"
      ],
      "metadata": {
        "colab": {
          "base_uri": "https://localhost:8080/"
        },
        "id": "TwDWi257Aca9",
        "outputId": "60f3f0d5-3c78-4464-bea6-ff4fa8c8dc31"
      },
      "execution_count": null,
      "outputs": [
        {
          "output_type": "execute_result",
          "data": {
            "text/plain": [
              "array([[1. , 8. ],\n",
              "       [1. , 9.1],\n",
              "       [1. , 8.4],\n",
              "       [1. , 6.9],\n",
              "       [1. , 7.7]])"
            ]
          },
          "metadata": {},
          "execution_count": 84
        }
      ]
    },
    {
      "cell_type": "code",
      "source": [
        "def cost_function(theta,X,y):\n",
        "  m = X.shape[0]\n",
        "  err = y - np.matmul(X,theta)\n",
        "  return (np.dot(np.transpose(err), err)/(2*m))[0][0]"
      ],
      "metadata": {
        "id": "M4nBJV3zNjyS"
      },
      "execution_count": null,
      "outputs": []
    },
    {
      "cell_type": "code",
      "source": [
        "def gradient(theta,X,y):\n",
        "  m = X.shape[0]\n",
        "  return np.matmul(np.transpose(X), (np.matmul(X,theta)-y))/(m)"
      ],
      "metadata": {
        "id": "yuT30rrmKce6"
      },
      "execution_count": null,
      "outputs": []
    },
    {
      "cell_type": "code",
      "source": [
        "cost_list = np.array([])\n",
        "theta0_list = np.array([])\n",
        "theta1_list = np.array([])\n",
        "\n",
        "def gradient_descent(theta,X,y,lr):\n",
        "  global cost_list, theta0_list, theta1_list  # Declare variables as global\n",
        "\n",
        "  epoch = 0\n",
        "  while True :\n",
        "\n",
        "    cost = cost_function(theta,X,y)\n",
        "    # print(\" epoch \"+ str(epoch ), end = \" \")\n",
        "    # print(cost)\n",
        "    cost_list= np.append(cost_list, cost)\n",
        "\n",
        "    theta = theta - (lr)*gradient(theta,X,y)\n",
        "    theta0_list = np.append(theta0_list, theta[0][0])\n",
        "    theta1_list = np.append(theta1_list, theta[1][0])\n",
        "\n",
        "    cost_new = cost_function(theta,X,y)\n",
        "    epoch += 1\n",
        "    if abs(cost_new-cost) <= 1e-10 :\n",
        "      break\n",
        "    # elif epoch == max_epoch :\n",
        "    #   break\n",
        "\n",
        "    cost = cost_new\n",
        "\n",
        "  return theta, cost_list"
      ],
      "metadata": {
        "id": "lN0SMCpwQoz-"
      },
      "execution_count": null,
      "outputs": []
    },
    {
      "cell_type": "code",
      "source": [
        "theta = np.array([[0],\n",
        "                  [0]])"
      ],
      "metadata": {
        "id": "zQ4eNezWDedt"
      },
      "execution_count": null,
      "outputs": []
    },
    {
      "cell_type": "code",
      "source": [
        "theta_final, cost_list = gradient_descent(theta,X,y,0.01)"
      ],
      "metadata": {
        "id": "KKsQwC4o8QkC"
      },
      "execution_count": null,
      "outputs": []
    },
    {
      "cell_type": "code",
      "source": [
        "theta_final"
      ],
      "metadata": {
        "colab": {
          "base_uri": "https://localhost:8080/"
        },
        "id": "jXazRlEJ9NMT",
        "outputId": "781c5abd-b874-494a-9ecd-7d2589c7718c"
      },
      "execution_count": null,
      "outputs": [
        {
          "output_type": "execute_result",
          "data": {
            "text/plain": [
              "array([[0.98802495],\n",
              "       [0.00105694]])"
            ]
          },
          "metadata": {},
          "execution_count": 138
        }
      ]
    },
    {
      "cell_type": "code",
      "source": [
        "plt.plot(x,y, 'ro')\n",
        "plt.plot(x, theta_final[0]+theta_final[1]*x)"
      ],
      "metadata": {
        "colab": {
          "base_uri": "https://localhost:8080/",
          "height": 448
        },
        "id": "bHiNL-dc9OWc",
        "outputId": "c57ab308-3216-4b43-ad09-aaa5c8a46dcf"
      },
      "execution_count": null,
      "outputs": [
        {
          "output_type": "execute_result",
          "data": {
            "text/plain": [
              "[<matplotlib.lines.Line2D at 0x7fdacf3804f0>]"
            ]
          },
          "metadata": {},
          "execution_count": 139
        },
        {
          "output_type": "display_data",
          "data": {
            "text/plain": [
              "<Figure size 640x480 with 1 Axes>"
            ],
            "image/png": "[encoded data removed]"
          },
          "metadata": {}
        }
      ]
    }
  ]
}