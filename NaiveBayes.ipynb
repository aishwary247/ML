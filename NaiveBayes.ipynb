{
  "nbformat": 4,
  "nbformat_minor": 0,
  "metadata": {
    "colab": {
      "provenance": [],
      "authorship_tag": "ABX9TyMfGqHcyV8w58YbO/MjJ2Fj",
      "include_colab_link": true
    },
    "kernelspec": {
      "name": "python3",
      "display_name": "Python 3"
    },
    "language_info": {
      "name": "python"
    }
  },
  "cells": [
    {
      "cell_type": "markdown",
      "metadata": {
        "id": "view-in-github",
        "colab_type": "text"
      },
      "source": [
        "<a href=\"https://colab.research.google.com/github/aishwary247/ML/blob/main/NaiveBayes.ipynb\" target=\"_parent\"><img src=\"https://colab.research.google.com/assets/colab-badge.svg\" alt=\"Open In Colab\"/></a>"
      ]
    },
    {
      "cell_type": "code",
      "execution_count": 1,
      "metadata": {
        "id": "ZPIgAaC746iy"
      },
      "outputs": [],
      "source": [
        "import numpy as np\n",
        "import pandas as pd\n",
        "import matplotlib.pyplot as plt"
      ]
    },
    {
      "cell_type": "code",
      "source": [
        "df = pd.read_csv('/content/Corona_train.csv')\n",
        "df.head()"
      ],
      "metadata": {
        "colab": {
          "base_uri": "https://localhost:8080/",
          "height": 206
        },
        "id": "jrIK63J15N64",
        "outputId": "a6be7b68-7564-4c1e-888e-21d21990ef3f"
      },
      "execution_count": 2,
      "outputs": [
        {
          "output_type": "execute_result",
          "data": {
            "text/plain": [
              "      ID Sentiment                                        CoronaTweet\n",
              "0  22979  Positive  I see all kinds of academics already whipping ...\n",
              "1   9880  Negative  @HenrySmithUK can you raise with Boris please ...\n",
              "2  35761  Negative  It s a confusing odd time for the shopping pub...\n",
              "3  37968  Positive  Blog Summary: The Impact of COVID-19 on the Ca...\n",
              "4  19709   Neutral  ??????? ??????? ???\\r\\r\\nWaiting in a long Que..."
            ],
            "text/html": [
              "\n",
              "  <div id=\"df-514a9a46-42fa-4dd3-bd3b-630c4cbcda85\" class=\"colab-df-container\">\n",
              "    <div>\n",
              "<style scoped>\n",
              "    .dataframe tbody tr th:only-of-type {\n",
              "        vertical-align: middle;\n",
              "    }\n",
              "\n",
              "    .dataframe tbody tr th {\n",
              "        vertical-align: top;\n",
              "    }\n",
              "\n",
              "    .dataframe thead th {\n",
              "        text-align: right;\n",
              "    }\n",
              "</style>\n",
              "<table border=\"1\" class=\"dataframe\">\n",
              "  <thead>\n",
              "    <tr style=\"text-align: right;\">\n",
              "      <th></th>\n",
              "      <th>ID</th>\n",
              "      <th>Sentiment</th>\n",
              "      <th>CoronaTweet</th>\n",
              "    </tr>\n",
              "  </thead>\n",
              "  <tbody>\n",
              "    <tr>\n",
              "      <th>0</th>\n",
              "      <td>22979</td>\n",
              "      <td>Positive</td>\n",
              "      <td>I see all kinds of academics already whipping ...</td>\n",
              "    </tr>\n",
              "    <tr>\n",
              "      <th>1</th>\n",
              "      <td>9880</td>\n",
              "      <td>Negative</td>\n",
              "      <td>@HenrySmithUK can you raise with Boris please ...</td>\n",
              "    </tr>\n",
              "    <tr>\n",
              "      <th>2</th>\n",
              "      <td>35761</td>\n",
              "      <td>Negative</td>\n",
              "      <td>It s a confusing odd time for the shopping pub...</td>\n",
              "    </tr>\n",
              "    <tr>\n",
              "      <th>3</th>\n",
              "      <td>37968</td>\n",
              "      <td>Positive</td>\n",
              "      <td>Blog Summary: The Impact of COVID-19 on the Ca...</td>\n",
              "    </tr>\n",
              "    <tr>\n",
              "      <th>4</th>\n",
              "      <td>19709</td>\n",
              "      <td>Neutral</td>\n",
              "      <td>??????? ??????? ???\\r\\r\\nWaiting in a long Que...</td>\n",
              "    </tr>\n",
              "  </tbody>\n",
              "</table>\n",
              "</div>\n",
              "    <div class=\"colab-df-buttons\">\n",
              "\n",
              "  <div class=\"colab-df-container\">\n",
              "    <button class=\"colab-df-convert\" onclick=\"convertToInteractive('df-514a9a46-42fa-4dd3-bd3b-630c4cbcda85')\"\n",
              "            title=\"Convert this dataframe to an interactive table.\"\n",
              "            style=\"display:none;\">\n",
              "\n",
              "  <svg xmlns=\"http://www.w3.org/2000/svg\" height=\"24px\" viewBox=\"0 -960 960 960\">\n",
              "    <path d=\"M120-120v-720h720v720H120Zm60-500h600v-160H180v160Zm220 220h160v-160H400v160Zm0 220h160v-160H400v160ZM180-400h160v-160H180v160Zm440 0h160v-160H620v160ZM180-180h160v-160H180v160Zm440 0h160v-160H620v160Z\"/>\n",
              "  </svg>\n",
              "    </button>\n",
              "\n",
              "  <style>\n",
              "    .colab-df-container {\n",
              "      display:flex;\n",
              "      gap: 12px;\n",
              "    }\n",
              "\n",
              "    .colab-df-convert {\n",
              "      background-color: #E8F0FE;\n",
              "      border: none;\n",
              "      border-radius: 50%;\n",
              "      cursor: pointer;\n",
              "      display: none;\n",
              "      fill: #1967D2;\n",
              "      height: 32px;\n",
              "      padding: 0 0 0 0;\n",
              "      width: 32px;\n",
              "    }\n",
              "\n",
              "    .colab-df-convert:hover {\n",
              "      background-color: #E2EBFA;\n",
              "      box-shadow: 0px 1px 2px rgba(60, 64, 67, 0.3), 0px 1px 3px 1px rgba(60, 64, 67, 0.15);\n",
              "      fill: #174EA6;\n",
              "    }\n",
              "\n",
              "    .colab-df-buttons div {\n",
              "      margin-bottom: 4px;\n",
              "    }\n",
              "\n",
              "    [theme=dark] .colab-df-convert {\n",
              "      background-color: #3B4455;\n",
              "      fill: #D2E3FC;\n",
              "    }\n",
              "\n",
              "    [theme=dark] .colab-df-convert:hover {\n",
              "      background-color: #434B5C;\n",
              "      box-shadow: 0px 1px 3px 1px rgba(0, 0, 0, 0.15);\n",
              "      filter: drop-shadow(0px 1px 2px rgba(0, 0, 0, 0.3));\n",
              "      fill: #FFFFFF;\n",
              "    }\n",
              "  </style>\n",
              "\n",
              "    <script>\n",
              "      const buttonEl =\n",
              "        document.querySelector('#df-514a9a46-42fa-4dd3-bd3b-630c4cbcda85 button.colab-df-convert');\n",
              "      buttonEl.style.display =\n",
              "        google.colab.kernel.accessAllowed ? 'block' : 'none';\n",
              "\n",
              "      async function convertToInteractive(key) {\n",
              "        const element = document.querySelector('#df-514a9a46-42fa-4dd3-bd3b-630c4cbcda85');\n",
              "        const dataTable =\n",
              "          await google.colab.kernel.invokeFunction('convertToInteractive',\n",
              "                                                    [key], {});\n",
              "        if (!dataTable) return;\n",
              "\n",
              "        const docLinkHtml = 'Like what you see? Visit the ' +\n",
              "          '<a target=\"_blank\" href=https://colab.research.google.com/notebooks/data_table.ipynb>data table notebook</a>'\n",
              "          + ' to learn more about interactive tables.';\n",
              "        element.innerHTML = '';\n",
              "        dataTable['output_type'] = 'display_data';\n",
              "        await google.colab.output.renderOutput(dataTable, element);\n",
              "        const docLink = document.createElement('div');\n",
              "        docLink.innerHTML = docLinkHtml;\n",
              "        element.appendChild(docLink);\n",
              "      }\n",
              "    </script>\n",
              "  </div>\n",
              "\n",
              "\n",
              "<div id=\"df-b1392036-b073-45af-8e34-b5ad2002e66a\">\n",
              "  <button class=\"colab-df-quickchart\" onclick=\"quickchart('df-b1392036-b073-45af-8e34-b5ad2002e66a')\"\n",
              "            title=\"Suggest charts\"\n",
              "            style=\"display:none;\">\n",
              "\n",
              "<svg xmlns=\"http://www.w3.org/2000/svg\" height=\"24px\"viewBox=\"0 0 24 24\"\n",
              "     width=\"24px\">\n",
              "    <g>\n",
              "        <path d=\"M19 3H5c-1.1 0-2 .9-2 2v14c0 1.1.9 2 2 2h14c1.1 0 2-.9 2-2V5c0-1.1-.9-2-2-2zM9 17H7v-7h2v7zm4 0h-2V7h2v10zm4 0h-2v-4h2v4z\"/>\n",
              "    </g>\n",
              "</svg>\n",
              "  </button>\n",
              "\n",
              "<style>\n",
              "  .colab-df-quickchart {\n",
              "      --bg-color: #E8F0FE;\n",
              "      --fill-color: #1967D2;\n",
              "      --hover-bg-color: #E2EBFA;\n",
              "      --hover-fill-color: #174EA6;\n",
              "      --disabled-fill-color: #AAA;\n",
              "      --disabled-bg-color: #DDD;\n",
              "  }\n",
              "\n",
              "  [theme=dark] .colab-df-quickchart {\n",
              "      --bg-color: #3B4455;\n",
              "      --fill-color: #D2E3FC;\n",
              "      --hover-bg-color: #434B5C;\n",
              "      --hover-fill-color: #FFFFFF;\n",
              "      --disabled-bg-color: #3B4455;\n",
              "      --disabled-fill-color: #666;\n",
              "  }\n",
              "\n",
              "  .colab-df-quickchart {\n",
              "    background-color: var(--bg-color);\n",
              "    border: none;\n",
              "    border-radius: 50%;\n",
              "    cursor: pointer;\n",
              "    display: none;\n",
              "    fill: var(--fill-color);\n",
              "    height: 32px;\n",
              "    padding: 0;\n",
              "    width: 32px;\n",
              "  }\n",
              "\n",
              "  .colab-df-quickchart:hover {\n",
              "    background-color: var(--hover-bg-color);\n",
              "    box-shadow: 0 1px 2px rgba(60, 64, 67, 0.3), 0 1px 3px 1px rgba(60, 64, 67, 0.15);\n",
              "    fill: var(--button-hover-fill-color);\n",
              "  }\n",
              "\n",
              "  .colab-df-quickchart-complete:disabled,\n",
              "  .colab-df-quickchart-complete:disabled:hover {\n",
              "    background-color: var(--disabled-bg-color);\n",
              "    fill: var(--disabled-fill-color);\n",
              "    box-shadow: none;\n",
              "  }\n",
              "\n",
              "  .colab-df-spinner {\n",
              "    border: 2px solid var(--fill-color);\n",
              "    border-color: transparent;\n",
              "    border-bottom-color: var(--fill-color);\n",
              "    animation:\n",
              "      spin 1s steps(1) infinite;\n",
              "  }\n",
              "\n",
              "  @keyframes spin {\n",
              "    0% {\n",
              "      border-color: transparent;\n",
              "      border-bottom-color: var(--fill-color);\n",
              "      border-left-color: var(--fill-color);\n",
              "    }\n",
              "    20% {\n",
              "      border-color: transparent;\n",
              "      border-left-color: var(--fill-color);\n",
              "      border-top-color: var(--fill-color);\n",
              "    }\n",
              "    30% {\n",
              "      border-color: transparent;\n",
              "      border-left-color: var(--fill-color);\n",
              "      border-top-color: var(--fill-color);\n",
              "      border-right-color: var(--fill-color);\n",
              "    }\n",
              "    40% {\n",
              "      border-color: transparent;\n",
              "      border-right-color: var(--fill-color);\n",
              "      border-top-color: var(--fill-color);\n",
              "    }\n",
              "    60% {\n",
              "      border-color: transparent;\n",
              "      border-right-color: var(--fill-color);\n",
              "    }\n",
              "    80% {\n",
              "      border-color: transparent;\n",
              "      border-right-color: var(--fill-color);\n",
              "      border-bottom-color: var(--fill-color);\n",
              "    }\n",
              "    90% {\n",
              "      border-color: transparent;\n",
              "      border-bottom-color: var(--fill-color);\n",
              "    }\n",
              "  }\n",
              "</style>\n",
              "\n",
              "  <script>\n",
              "    async function quickchart(key) {\n",
              "      const quickchartButtonEl =\n",
              "        document.querySelector('#' + key + ' button');\n",
              "      quickchartButtonEl.disabled = true;  // To prevent multiple clicks.\n",
              "      quickchartButtonEl.classList.add('colab-df-spinner');\n",
              "      try {\n",
              "        const charts = await google.colab.kernel.invokeFunction(\n",
              "            'suggestCharts', [key], {});\n",
              "      } catch (error) {\n",
              "        console.error('Error during call to suggestCharts:', error);\n",
              "      }\n",
              "      quickchartButtonEl.classList.remove('colab-df-spinner');\n",
              "      quickchartButtonEl.classList.add('colab-df-quickchart-complete');\n",
              "    }\n",
              "    (() => {\n",
              "      let quickchartButtonEl =\n",
              "        document.querySelector('#df-b1392036-b073-45af-8e34-b5ad2002e66a button');\n",
              "      quickchartButtonEl.style.display =\n",
              "        google.colab.kernel.accessAllowed ? 'block' : 'none';\n",
              "    })();\n",
              "  </script>\n",
              "</div>\n",
              "    </div>\n",
              "  </div>\n"
            ]
          },
          "metadata": {},
          "execution_count": 2
        }
      ]
    },
    {
      "cell_type": "code",
      "source": [
        "# Removing URL's\n",
        "def remove_url(text):\n",
        "  pattern = re.compile(r'https?://\\S+|www\\.\\S+')\n",
        "  return pattern.sub(r'',text)"
      ],
      "metadata": {
        "id": "mZB_XSTt97IN"
      },
      "execution_count": 3,
      "outputs": []
    },
    {
      "cell_type": "code",
      "source": [
        "import re\n",
        "# Define a function for text cleaning\n",
        "def clean_text(text):\n",
        "    if pd.notnull(text) and isinstance(text, str):\n",
        "        text = text.lower()\n",
        "        text = re.sub('<br />', '', text)\n",
        "        text = re.sub('\\n', '', text)\n",
        "        text = re.sub(r'[^\\w\\s]', '', text)\n",
        "    return text\n",
        "\n"
      ],
      "metadata": {
        "id": "o3KbTmzl5Rkf"
      },
      "execution_count": 4,
      "outputs": []
    },
    {
      "cell_type": "code",
      "source": [
        "df[\"CoronaTweet\"]= df[\"CoronaTweet\"].apply(remove_url)\n",
        "df[\"CoronaTweet\"]= df[\"CoronaTweet\"].apply(clean_text)"
      ],
      "metadata": {
        "id": "1Em0efGR8cf3"
      },
      "execution_count": 5,
      "outputs": []
    },
    {
      "cell_type": "code",
      "source": [
        "from nltk.stem.porter import PorterStemmer\n",
        "ps = PorterStemmer()"
      ],
      "metadata": {
        "id": "K2gnc-ArQnE-"
      },
      "execution_count": 6,
      "outputs": []
    },
    {
      "cell_type": "code",
      "source": [
        "def stem(text):\n",
        "  y=[]\n",
        "  for i in text.split() :\n",
        "    y.append(ps.stem(i))\n",
        "\n",
        "  return \" \".join(y)"
      ],
      "metadata": {
        "id": "OYMK12ySOXZA"
      },
      "execution_count": 7,
      "outputs": []
    },
    {
      "cell_type": "code",
      "source": [
        "df[\"CoronaTweet\"]= df[\"CoronaTweet\"].apply(stem)"
      ],
      "metadata": {
        "id": "ajkP9TvVOJEk"
      },
      "execution_count": 8,
      "outputs": []
    },
    {
      "cell_type": "code",
      "source": [
        "import nltk\n",
        "nltk.download('punkt')\n",
        "from nltk.corpus import stopwords\n",
        "nltk.download('stopwords')\n",
        "stwords = stopwords.words('english')"
      ],
      "metadata": {
        "colab": {
          "base_uri": "https://localhost:8080/"
        },
        "id": "CWH1TfCxNmYk",
        "outputId": "a2c07850-083b-4af8-c866-d136d614b595"
      },
      "execution_count": 9,
      "outputs": [
        {
          "output_type": "stream",
          "name": "stderr",
          "text": [
            "[nltk_data] Downloading package punkt to /root/nltk_data...\n",
            "[nltk_data]   Unzipping tokenizers/punkt.zip.\n",
            "[nltk_data] Downloading package stopwords to /root/nltk_data...\n",
            "[nltk_data]   Unzipping corpora/stopwords.zip.\n"
          ]
        }
      ]
    },
    {
      "cell_type": "code",
      "source": [
        "def remove_stopwords(text):\n",
        "    stop_words = set(stopwords.words('english'))\n",
        "    words = nltk.word_tokenize(text)\n",
        "    filtered_words = [word for word in words if word.lower() not in stop_words]\n",
        "    return ' '.join(filtered_words)"
      ],
      "metadata": {
        "id": "HJVm8FgATaEQ"
      },
      "execution_count": 10,
      "outputs": []
    },
    {
      "cell_type": "code",
      "source": [
        "df[\"CoronaTweet\"]= df[\"CoronaTweet\"].apply(remove_stopwords)"
      ],
      "metadata": {
        "id": "WYdOT-tZXO4k"
      },
      "execution_count": 11,
      "outputs": []
    },
    {
      "cell_type": "code",
      "source": [
        "!pip install unidecode\n"
      ],
      "metadata": {
        "colab": {
          "base_uri": "https://localhost:8080/"
        },
        "id": "imOyk_vBnZGU",
        "outputId": "03b4b02e-52a1-4610-9bbb-ac12a89d9bd5"
      },
      "execution_count": 12,
      "outputs": [
        {
          "output_type": "stream",
          "name": "stdout",
          "text": [
            "Collecting unidecode\n",
            "  Downloading Unidecode-1.3.7-py3-none-any.whl (235 kB)\n",
            "\u001b[?25l     \u001b[90m━━━━━━━━━━━━━━━━━━━━━━━━━━━━━━━━━━━━━━━━\u001b[0m \u001b[32m0.0/235.5 kB\u001b[0m \u001b[31m?\u001b[0m eta \u001b[36m-:--:--\u001b[0m\r\u001b[2K     \u001b[91m━━━━━━\u001b[0m\u001b[91m╸\u001b[0m\u001b[90m━━━━━━━━━━━━━━━━━━━━━━━━━━━━━━━━━\u001b[0m \u001b[32m41.0/235.5 kB\u001b[0m \u001b[31m1.2 MB/s\u001b[0m eta \u001b[36m0:00:01\u001b[0m\r\u001b[2K     \u001b[90m━━━━━━━━━━━━━━━━━━━━━━━━━━━━━━━━━━━━━━━━\u001b[0m \u001b[32m235.5/235.5 kB\u001b[0m \u001b[31m3.8 MB/s\u001b[0m eta \u001b[36m0:00:00\u001b[0m\n",
            "\u001b[?25hInstalling collected packages: unidecode\n",
            "Successfully installed unidecode-1.3.7\n"
          ]
        }
      ]
    },
    {
      "cell_type": "code",
      "source": [
        "from unidecode import unidecode\n",
        "\n",
        "def strip_accents(text):\n",
        "    return unidecode(text)"
      ],
      "metadata": {
        "id": "xUQ0RY9dnXTZ"
      },
      "execution_count": 13,
      "outputs": []
    },
    {
      "cell_type": "code",
      "source": [
        "df[\"CoronaTweet\"]= df[\"CoronaTweet\"].apply(strip_accents)"
      ],
      "metadata": {
        "id": "dYWEMex0n1Xb"
      },
      "execution_count": 14,
      "outputs": []
    },
    {
      "cell_type": "code",
      "source": [
        "# Function to remove words with numbers, excluding cases like \"covid19\"\n",
        "def remove_numerical_words(text):\n",
        "    return ' '.join(word for word in text.split() if not (re.search(r'\\d', word) and not re.search(r'[\\W_]*\\d*covid[\\W_]*\\d*', word, flags=re.IGNORECASE)))\n",
        "\n",
        "def replace_covid_words(text):\n",
        "    return re.sub(r'[\\W_]*\\d*covid[\\W_]*\\d*', 'covid', text, flags=re.IGNORECASE)\n",
        "\n"
      ],
      "metadata": {
        "id": "PckRScHrriMW"
      },
      "execution_count": 15,
      "outputs": []
    },
    {
      "cell_type": "code",
      "source": [
        "df['CoronaTweet']= df['CoronaTweet'].apply(remove_numerical_words)\n",
        "df['CoronaTweet']= df['CoronaTweet'].apply(replace_covid_words)\n",
        "df"
      ],
      "metadata": {
        "colab": {
          "base_uri": "https://localhost:8080/",
          "height": 424
        },
        "id": "0K97jx0OrxiL",
        "outputId": "70b12036-daf7-40bd-930a-e5a4a1b2fe3b"
      },
      "execution_count": 16,
      "outputs": [
        {
          "output_type": "execute_result",
          "data": {
            "text/plain": [
              "          ID Sentiment                                        CoronaTweet\n",
              "0      22979  Positive  see kind academ alreadi whipcovid relat projec...\n",
              "1       9880  Negative  henrysmithuk rais bori pleas supermarket contr...\n",
              "2      35761  Negative  confus odd time shop public store close flight...\n",
              "3      37968  Positive  blog summari impactcovid canadian residenti ho...\n",
              "4      19709   Neutral  wait long queue enter supermarket final saw en...\n",
              "...      ...       ...                                                ...\n",
              "37859  20253   Neutral  doubl tap rememb employ follow walletgyd tip l...\n",
              "37860  38926  Positive  struggl understand whi supermarket food shop a...\n",
              "37861  35889  Positive  anyon interest checklist consum impliccovidpol...\n",
              "37862  40641  Positive  agre hypothesi indian societi might chang fore...\n",
              "37863  26063   Neutral  richmond local boutiqu thrift store search new...\n",
              "\n",
              "[37864 rows x 3 columns]"
            ],
            "text/html": [
              "\n",
              "  <div id=\"df-8e8391d7-8316-4606-8d4b-f018ae907ff4\" class=\"colab-df-container\">\n",
              "    <div>\n",
              "<style scoped>\n",
              "    .dataframe tbody tr th:only-of-type {\n",
              "        vertical-align: middle;\n",
              "    }\n",
              "\n",
              "    .dataframe tbody tr th {\n",
              "        vertical-align: top;\n",
              "    }\n",
              "\n",
              "    .dataframe thead th {\n",
              "        text-align: right;\n",
              "    }\n",
              "</style>\n",
              "<table border=\"1\" class=\"dataframe\">\n",
              "  <thead>\n",
              "    <tr style=\"text-align: right;\">\n",
              "      <th></th>\n",
              "      <th>ID</th>\n",
              "      <th>Sentiment</th>\n",
              "      <th>CoronaTweet</th>\n",
              "    </tr>\n",
              "  </thead>\n",
              "  <tbody>\n",
              "    <tr>\n",
              "      <th>0</th>\n",
              "      <td>22979</td>\n",
              "      <td>Positive</td>\n",
              "      <td>see kind academ alreadi whipcovid relat projec...</td>\n",
              "    </tr>\n",
              "    <tr>\n",
              "      <th>1</th>\n",
              "      <td>9880</td>\n",
              "      <td>Negative</td>\n",
              "      <td>henrysmithuk rais bori pleas supermarket contr...</td>\n",
              "    </tr>\n",
              "    <tr>\n",
              "      <th>2</th>\n",
              "      <td>35761</td>\n",
              "      <td>Negative</td>\n",
              "      <td>confus odd time shop public store close flight...</td>\n",
              "    </tr>\n",
              "    <tr>\n",
              "      <th>3</th>\n",
              "      <td>37968</td>\n",
              "      <td>Positive</td>\n",
              "      <td>blog summari impactcovid canadian residenti ho...</td>\n",
              "    </tr>\n",
              "    <tr>\n",
              "      <th>4</th>\n",
              "      <td>19709</td>\n",
              "      <td>Neutral</td>\n",
              "      <td>wait long queue enter supermarket final saw en...</td>\n",
              "    </tr>\n",
              "    <tr>\n",
              "      <th>...</th>\n",
              "      <td>...</td>\n",
              "      <td>...</td>\n",
              "      <td>...</td>\n",
              "    </tr>\n",
              "    <tr>\n",
              "      <th>37859</th>\n",
              "      <td>20253</td>\n",
              "      <td>Neutral</td>\n",
              "      <td>doubl tap rememb employ follow walletgyd tip l...</td>\n",
              "    </tr>\n",
              "    <tr>\n",
              "      <th>37860</th>\n",
              "      <td>38926</td>\n",
              "      <td>Positive</td>\n",
              "      <td>struggl understand whi supermarket food shop a...</td>\n",
              "    </tr>\n",
              "    <tr>\n",
              "      <th>37861</th>\n",
              "      <td>35889</td>\n",
              "      <td>Positive</td>\n",
              "      <td>anyon interest checklist consum impliccovidpol...</td>\n",
              "    </tr>\n",
              "    <tr>\n",
              "      <th>37862</th>\n",
              "      <td>40641</td>\n",
              "      <td>Positive</td>\n",
              "      <td>agre hypothesi indian societi might chang fore...</td>\n",
              "    </tr>\n",
              "    <tr>\n",
              "      <th>37863</th>\n",
              "      <td>26063</td>\n",
              "      <td>Neutral</td>\n",
              "      <td>richmond local boutiqu thrift store search new...</td>\n",
              "    </tr>\n",
              "  </tbody>\n",
              "</table>\n",
              "<p>37864 rows × 3 columns</p>\n",
              "</div>\n",
              "    <div class=\"colab-df-buttons\">\n",
              "\n",
              "  <div class=\"colab-df-container\">\n",
              "    <button class=\"colab-df-convert\" onclick=\"convertToInteractive('df-8e8391d7-8316-4606-8d4b-f018ae907ff4')\"\n",
              "            title=\"Convert this dataframe to an interactive table.\"\n",
              "            style=\"display:none;\">\n",
              "\n",
              "  <svg xmlns=\"http://www.w3.org/2000/svg\" height=\"24px\" viewBox=\"0 -960 960 960\">\n",
              "    <path d=\"M120-120v-720h720v720H120Zm60-500h600v-160H180v160Zm220 220h160v-160H400v160Zm0 220h160v-160H400v160ZM180-400h160v-160H180v160Zm440 0h160v-160H620v160ZM180-180h160v-160H180v160Zm440 0h160v-160H620v160Z\"/>\n",
              "  </svg>\n",
              "    </button>\n",
              "\n",
              "  <style>\n",
              "    .colab-df-container {\n",
              "      display:flex;\n",
              "      gap: 12px;\n",
              "    }\n",
              "\n",
              "    .colab-df-convert {\n",
              "      background-color: #E8F0FE;\n",
              "      border: none;\n",
              "      border-radius: 50%;\n",
              "      cursor: pointer;\n",
              "      display: none;\n",
              "      fill: #1967D2;\n",
              "      height: 32px;\n",
              "      padding: 0 0 0 0;\n",
              "      width: 32px;\n",
              "    }\n",
              "\n",
              "    .colab-df-convert:hover {\n",
              "      background-color: #E2EBFA;\n",
              "      box-shadow: 0px 1px 2px rgba(60, 64, 67, 0.3), 0px 1px 3px 1px rgba(60, 64, 67, 0.15);\n",
              "      fill: #174EA6;\n",
              "    }\n",
              "\n",
              "    .colab-df-buttons div {\n",
              "      margin-bottom: 4px;\n",
              "    }\n",
              "\n",
              "    [theme=dark] .colab-df-convert {\n",
              "      background-color: #3B4455;\n",
              "      fill: #D2E3FC;\n",
              "    }\n",
              "\n",
              "    [theme=dark] .colab-df-convert:hover {\n",
              "      background-color: #434B5C;\n",
              "      box-shadow: 0px 1px 3px 1px rgba(0, 0, 0, 0.15);\n",
              "      filter: drop-shadow(0px 1px 2px rgba(0, 0, 0, 0.3));\n",
              "      fill: #FFFFFF;\n",
              "    }\n",
              "  </style>\n",
              "\n",
              "    <script>\n",
              "      const buttonEl =\n",
              "        document.querySelector('#df-8e8391d7-8316-4606-8d4b-f018ae907ff4 button.colab-df-convert');\n",
              "      buttonEl.style.display =\n",
              "        google.colab.kernel.accessAllowed ? 'block' : 'none';\n",
              "\n",
              "      async function convertToInteractive(key) {\n",
              "        const element = document.querySelector('#df-8e8391d7-8316-4606-8d4b-f018ae907ff4');\n",
              "        const dataTable =\n",
              "          await google.colab.kernel.invokeFunction('convertToInteractive',\n",
              "                                                    [key], {});\n",
              "        if (!dataTable) return;\n",
              "\n",
              "        const docLinkHtml = 'Like what you see? Visit the ' +\n",
              "          '<a target=\"_blank\" href=https://colab.research.google.com/notebooks/data_table.ipynb>data table notebook</a>'\n",
              "          + ' to learn more about interactive tables.';\n",
              "        element.innerHTML = '';\n",
              "        dataTable['output_type'] = 'display_data';\n",
              "        await google.colab.output.renderOutput(dataTable, element);\n",
              "        const docLink = document.createElement('div');\n",
              "        docLink.innerHTML = docLinkHtml;\n",
              "        element.appendChild(docLink);\n",
              "      }\n",
              "    </script>\n",
              "  </div>\n",
              "\n",
              "\n",
              "<div id=\"df-1489eb66-c899-45a3-bc6c-3c9df3f13e50\">\n",
              "  <button class=\"colab-df-quickchart\" onclick=\"quickchart('df-1489eb66-c899-45a3-bc6c-3c9df3f13e50')\"\n",
              "            title=\"Suggest charts\"\n",
              "            style=\"display:none;\">\n",
              "\n",
              "<svg xmlns=\"http://www.w3.org/2000/svg\" height=\"24px\"viewBox=\"0 0 24 24\"\n",
              "     width=\"24px\">\n",
              "    <g>\n",
              "        <path d=\"M19 3H5c-1.1 0-2 .9-2 2v14c0 1.1.9 2 2 2h14c1.1 0 2-.9 2-2V5c0-1.1-.9-2-2-2zM9 17H7v-7h2v7zm4 0h-2V7h2v10zm4 0h-2v-4h2v4z\"/>\n",
              "    </g>\n",
              "</svg>\n",
              "  </button>\n",
              "\n",
              "<style>\n",
              "  .colab-df-quickchart {\n",
              "      --bg-color: #E8F0FE;\n",
              "      --fill-color: #1967D2;\n",
              "      --hover-bg-color: #E2EBFA;\n",
              "      --hover-fill-color: #174EA6;\n",
              "      --disabled-fill-color: #AAA;\n",
              "      --disabled-bg-color: #DDD;\n",
              "  }\n",
              "\n",
              "  [theme=dark] .colab-df-quickchart {\n",
              "      --bg-color: #3B4455;\n",
              "      --fill-color: #D2E3FC;\n",
              "      --hover-bg-color: #434B5C;\n",
              "      --hover-fill-color: #FFFFFF;\n",
              "      --disabled-bg-color: #3B4455;\n",
              "      --disabled-fill-color: #666;\n",
              "  }\n",
              "\n",
              "  .colab-df-quickchart {\n",
              "    background-color: var(--bg-color);\n",
              "    border: none;\n",
              "    border-radius: 50%;\n",
              "    cursor: pointer;\n",
              "    display: none;\n",
              "    fill: var(--fill-color);\n",
              "    height: 32px;\n",
              "    padding: 0;\n",
              "    width: 32px;\n",
              "  }\n",
              "\n",
              "  .colab-df-quickchart:hover {\n",
              "    background-color: var(--hover-bg-color);\n",
              "    box-shadow: 0 1px 2px rgba(60, 64, 67, 0.3), 0 1px 3px 1px rgba(60, 64, 67, 0.15);\n",
              "    fill: var(--button-hover-fill-color);\n",
              "  }\n",
              "\n",
              "  .colab-df-quickchart-complete:disabled,\n",
              "  .colab-df-quickchart-complete:disabled:hover {\n",
              "    background-color: var(--disabled-bg-color);\n",
              "    fill: var(--disabled-fill-color);\n",
              "    box-shadow: none;\n",
              "  }\n",
              "\n",
              "  .colab-df-spinner {\n",
              "    border: 2px solid var(--fill-color);\n",
              "    border-color: transparent;\n",
              "    border-bottom-color: var(--fill-color);\n",
              "    animation:\n",
              "      spin 1s steps(1) infinite;\n",
              "  }\n",
              "\n",
              "  @keyframes spin {\n",
              "    0% {\n",
              "      border-color: transparent;\n",
              "      border-bottom-color: var(--fill-color);\n",
              "      border-left-color: var(--fill-color);\n",
              "    }\n",
              "    20% {\n",
              "      border-color: transparent;\n",
              "      border-left-color: var(--fill-color);\n",
              "      border-top-color: var(--fill-color);\n",
              "    }\n",
              "    30% {\n",
              "      border-color: transparent;\n",
              "      border-left-color: var(--fill-color);\n",
              "      border-top-color: var(--fill-color);\n",
              "      border-right-color: var(--fill-color);\n",
              "    }\n",
              "    40% {\n",
              "      border-color: transparent;\n",
              "      border-right-color: var(--fill-color);\n",
              "      border-top-color: var(--fill-color);\n",
              "    }\n",
              "    60% {\n",
              "      border-color: transparent;\n",
              "      border-right-color: var(--fill-color);\n",
              "    }\n",
              "    80% {\n",
              "      border-color: transparent;\n",
              "      border-right-color: var(--fill-color);\n",
              "      border-bottom-color: var(--fill-color);\n",
              "    }\n",
              "    90% {\n",
              "      border-color: transparent;\n",
              "      border-bottom-color: var(--fill-color);\n",
              "    }\n",
              "  }\n",
              "</style>\n",
              "\n",
              "  <script>\n",
              "    async function quickchart(key) {\n",
              "      const quickchartButtonEl =\n",
              "        document.querySelector('#' + key + ' button');\n",
              "      quickchartButtonEl.disabled = true;  // To prevent multiple clicks.\n",
              "      quickchartButtonEl.classList.add('colab-df-spinner');\n",
              "      try {\n",
              "        const charts = await google.colab.kernel.invokeFunction(\n",
              "            'suggestCharts', [key], {});\n",
              "      } catch (error) {\n",
              "        console.error('Error during call to suggestCharts:', error);\n",
              "      }\n",
              "      quickchartButtonEl.classList.remove('colab-df-spinner');\n",
              "      quickchartButtonEl.classList.add('colab-df-quickchart-complete');\n",
              "    }\n",
              "    (() => {\n",
              "      let quickchartButtonEl =\n",
              "        document.querySelector('#df-1489eb66-c899-45a3-bc6c-3c9df3f13e50 button');\n",
              "      quickchartButtonEl.style.display =\n",
              "        google.colab.kernel.accessAllowed ? 'block' : 'none';\n",
              "    })();\n",
              "  </script>\n",
              "</div>\n",
              "    </div>\n",
              "  </div>\n"
            ]
          },
          "metadata": {},
          "execution_count": 16
        }
      ]
    },
    {
      "cell_type": "code",
      "source": [
        "from sklearn.feature_extraction.text import CountVectorizer\n",
        "cv = CountVectorizer(max_features = 40000 ,stop_words='english')"
      ],
      "metadata": {
        "id": "Yp616NsCoJzY"
      },
      "execution_count": 17,
      "outputs": []
    },
    {
      "cell_type": "code",
      "source": [
        "vector = cv.fit_transform(df['CoronaTweet']).toarray()\n",
        "vector.shape"
      ],
      "metadata": {
        "colab": {
          "base_uri": "https://localhost:8080/"
        },
        "id": "dA0_9Pe9oikI",
        "outputId": "bf9aafc4-370a-4e5e-8b4d-6946ec138ab6"
      },
      "execution_count": 18,
      "outputs": [
        {
          "output_type": "execute_result",
          "data": {
            "text/plain": [
              "(37864, 40000)"
            ]
          },
          "metadata": {},
          "execution_count": 18
        }
      ]
    },
    {
      "cell_type": "code",
      "source": [
        "arr = cv.get_feature_names_out()\n",
        "print(arr[1:1000])"
      ],
      "metadata": {
        "id": "HY4si7NJoj7o"
      },
      "execution_count": null,
      "outputs": []
    },
    {
      "cell_type": "code",
      "source": [
        "df.shape[0]"
      ],
      "metadata": {
        "colab": {
          "base_uri": "https://localhost:8080/"
        },
        "id": "nsRBYX21yu4G",
        "outputId": "150a4205-0c6b-442c-abdd-cbdff94c3708"
      },
      "execution_count": 20,
      "outputs": [
        {
          "output_type": "execute_result",
          "data": {
            "text/plain": [
              "37864"
            ]
          },
          "metadata": {},
          "execution_count": 20
        }
      ]
    },
    {
      "cell_type": "code",
      "source": [
        "df.Sentiment.unique()"
      ],
      "metadata": {
        "colab": {
          "base_uri": "https://localhost:8080/"
        },
        "id": "PGefY31Vz2Sp",
        "outputId": "89dca48f-10f2-47c6-f7ff-c232df9bfbfe"
      },
      "execution_count": 21,
      "outputs": [
        {
          "output_type": "execute_result",
          "data": {
            "text/plain": [
              "array(['Positive', 'Negative', 'Neutral'], dtype=object)"
            ]
          },
          "metadata": {},
          "execution_count": 21
        }
      ]
    },
    {
      "cell_type": "code",
      "source": [
        "# m = df.shape[0]\n",
        "# y = np.zeros((m))\n",
        "# for i in range(m):\n",
        "#   if df[\"Sentiment\"][i] == \"Positive\" :\n",
        "#     y[i] = 0\n",
        "#   elif df[\"Sentiment\"][i] == \"Neutral\" :\n",
        "#     y[i] = 1\n",
        "#   else :\n",
        "#     y[i] = 2\n",
        "\n",
        "# print(y)\n",
        "sentiment_mapping = {\"Positive\": 0, \"Neutral\": 1, \"Negative\": 2}\n",
        "y = np.array([sentiment_mapping[s] for s in df[\"Sentiment\"]])\n",
        "print(y)"
      ],
      "metadata": {
        "colab": {
          "base_uri": "https://localhost:8080/"
        },
        "id": "NSZ5n4OvovjQ",
        "outputId": "fbb33a5e-4357-478e-8e30-300d73729937"
      },
      "execution_count": 22,
      "outputs": [
        {
          "output_type": "stream",
          "name": "stdout",
          "text": [
            "[0 2 2 ... 0 0 1]\n"
          ]
        }
      ]
    },
    {
      "cell_type": "code",
      "source": [
        "y[:10]"
      ],
      "metadata": {
        "colab": {
          "base_uri": "https://localhost:8080/"
        },
        "id": "p7uvGgz5zxuq",
        "outputId": "e700ef7f-c3c9-4291-8552-35699b8b55a6"
      },
      "execution_count": 23,
      "outputs": [
        {
          "output_type": "execute_result",
          "data": {
            "text/plain": [
              "array([0, 2, 2, 0, 1, 1, 0, 0, 0, 0])"
            ]
          },
          "metadata": {},
          "execution_count": 23
        }
      ]
    },
    {
      "cell_type": "code",
      "source": [
        "vector.shape, y.shape"
      ],
      "metadata": {
        "colab": {
          "base_uri": "https://localhost:8080/"
        },
        "id": "uELLKdwlQt-b",
        "outputId": "e11c2391-32c4-4774-f7a7-19a81b7a4fc3"
      },
      "execution_count": 24,
      "outputs": [
        {
          "output_type": "execute_result",
          "data": {
            "text/plain": [
              "((37864, 40000), (37864,))"
            ]
          },
          "metadata": {},
          "execution_count": 24
        }
      ]
    },
    {
      "cell_type": "code",
      "source": [
        "# vector, y\n",
        "m = 37864\n",
        "\n",
        "sigmay0 = 0\n",
        "sigmay1 = 0\n",
        "sigmay2 = 0\n",
        "for ele in y :\n",
        "  if ele == 0:\n",
        "    sigmay0 += 1\n",
        "  elif ele == 1:\n",
        "    sigmay1 += 1\n",
        "  else :\n",
        "    sigmay2 += 1\n"
      ],
      "metadata": {
        "id": "USTKRIuY0Ro1"
      },
      "execution_count": 25,
      "outputs": []
    },
    {
      "cell_type": "code",
      "source": [
        "sigmay0+sigmay1+sigmay2"
      ],
      "metadata": {
        "colab": {
          "base_uri": "https://localhost:8080/"
        },
        "id": "i4XPZo75YazA",
        "outputId": "01a2b95e-141e-405c-8198-22b6509d8db3"
      },
      "execution_count": 26,
      "outputs": [
        {
          "output_type": "execute_result",
          "data": {
            "text/plain": [
              "37864"
            ]
          },
          "metadata": {},
          "execution_count": 26
        }
      ]
    },
    {
      "cell_type": "code",
      "source": [
        "m, n = vector.shape\n",
        "phi0 = np.zeros((n))\n",
        "phi1 = np.zeros((n))\n",
        "phi2 = np.zeros((n))\n",
        "\n",
        "\n",
        "# for k in range(n):\n",
        "#   num0 = 0\n",
        "#   num1 = 0\n",
        "#   num2 = 0\n",
        "\n",
        "#   for i in range(m):\n",
        "#     if vector[i][k] == 1 and y[i] == 0 :\n",
        "#       num0 += 1\n",
        "#     elif vector[i][k] == 1 and y[i] == 1 :\n",
        "#       num1 += 1\n",
        "#     elif vector[i][k] == 1 and y[i] == 2 :\n",
        "#       num2 += 1\n",
        "#   phi0[k] =  (num0 + 1)/(sigmay0+3)\n",
        "#   phi1[k] =  (num1 + 1)/(sigmay1+3)\n",
        "#   phi2[k] =  (num2 + 1)/(sigmay2+3)\n",
        "\n",
        "\n",
        "\n",
        "for k in range(n):\n",
        "    num0 = np.sum((vector[:, k] == 1) & (y == 0))\n",
        "    num1 = np.sum((vector[:, k] == 1) & (y == 1))\n",
        "    num2 = np.sum((vector[:, k] == 1) & (y == 2))\n",
        "\n",
        "    phi0[k] = (num0 + 1) / (sigmay0 + 3)\n",
        "    phi1[k] = (num1 + 1) / (sigmay1 + 3)\n",
        "    phi2[k] = (num2 + 1) / (sigmay2 + 3)"
      ],
      "metadata": {
        "id": "sZlCwGmzQtqo"
      },
      "execution_count": 27,
      "outputs": []
    },
    {
      "cell_type": "code",
      "source": [
        "phiy = np.array((sigmay0/m, sigmay1/m, sigmay2/m))\n",
        "phiy"
      ],
      "metadata": {
        "colab": {
          "base_uri": "https://localhost:8080/"
        },
        "id": "J9BWm846XtRS",
        "outputId": "e6aa9721-bcf3-4965-d581-e7dce39d6ff0"
      },
      "execution_count": 28,
      "outputs": [
        {
          "output_type": "execute_result",
          "data": {
            "text/plain": [
              "array([0.43846398, 0.18740756, 0.37412846])"
            ]
          },
          "metadata": {},
          "execution_count": 28
        }
      ]
    },
    {
      "cell_type": "code",
      "source": [
        "# Baic implementation with loops not time efficient\n",
        "#def sigmap( X , y ):\n",
        "#   if(y==0):\n",
        "#     pdt = 1\n",
        "#     for i in range(X.shape[0]):\n",
        "#       if X[i] == 0 :\n",
        "#         pdt *=(1-phi0[i])\n",
        "#       else :\n",
        "#         pdt *= phi0[i]\n",
        "#     return pdt\n",
        "\n",
        "#   elif(y==1):\n",
        "#     pdt = 1\n",
        "#     for i in range(X.shape[0]):\n",
        "#       if X[i] == 0 :\n",
        "#         pdt *=(1-phi1[i])\n",
        "#       else :\n",
        "#         pdt *= phi1[i]\n",
        "#     return pdt\n",
        "\n",
        "#   else:\n",
        "#     pdt = 1\n",
        "#     for i in range(X.shape[0]):\n",
        "#       if X[i] == 0 :\n",
        "#         pdt *=(1-phi2[i])\n",
        "#       else :\n",
        "#         pdt *= phi2[i]\n",
        "#     return pdt\n",
        "\n",
        "# def probab( y , X):\n",
        "#   return (sigmap(X,y)*phiy[y])/(sigmap(X,0)*phiy[0]+sigmap(X,1)*phiy[1]+sigmap(X,2)*phiy[2])\n",
        "\n",
        "# def predict(X):\n",
        "#   probabilities = [probab(0, X), probab(1, X), probab(2, X)]\n",
        "\n",
        "#   if max(probabilities) == probabilities[0]:\n",
        "#       return 0\n",
        "#   elif max(probabilities) == probabilities[1]:\n",
        "#       return 1\n",
        "#   else:\n",
        "#        return 2\n",
        "\n"
      ],
      "metadata": {
        "id": "qYuN0VIRXgC5"
      },
      "execution_count": 29,
      "outputs": []
    },
    {
      "cell_type": "code",
      "source": [
        "# import time\n",
        "# start = time.time()\n",
        "# print(predict(vector[0]))\n",
        "# time1 = time.time()-start\n",
        "# print(time1*30000)"
      ],
      "metadata": {
        "id": "1TQCi5oTU5bp"
      },
      "execution_count": 30,
      "outputs": []
    },
    {
      "cell_type": "code",
      "source": [
        "# using Numpy array operations to improve time efficiency\n",
        "def sigmap(X, phi):\n",
        "    return np.prod(np.where(X == 0, 1 - phi, phi))\n",
        "\n",
        "def probab(y, X, phi, phiy):\n",
        "    numerator = sigmap(X, phi[y]) * phiy[y]\n",
        "    denominator = np.sum([sigmap(X, phi[i]) * phiy[i] for i in range(3)])\n",
        "    return numerator / denominator\n",
        "\n",
        "def predict(X, phi, phiy):\n",
        "    probabilities = [probab(i, X, phi, phiy) for i in range(3)]\n",
        "    return np.argmax(probabilities)\n",
        "\n"
      ],
      "metadata": {
        "id": "6vMD4SSShFMq"
      },
      "execution_count": 31,
      "outputs": []
    },
    {
      "cell_type": "code",
      "source": [
        "phi = [phi0,phi1,phi2]"
      ],
      "metadata": {
        "id": "1qu6sUGYhkic"
      },
      "execution_count": 32,
      "outputs": []
    },
    {
      "cell_type": "code",
      "source": [
        "import time\n",
        "start = time.time()\n",
        "print(predict(vector[0],phi,phiy))\n",
        "time1 = time.time()-start\n",
        "print(time1*30000)"
      ],
      "metadata": {
        "colab": {
          "base_uri": "https://localhost:8080/"
        },
        "id": "FiDrRnNYheTO",
        "outputId": "b61c6e55-05a1-4668-ad8f-2e1048ec1d29"
      },
      "execution_count": 33,
      "outputs": [
        {
          "output_type": "stream",
          "name": "stdout",
          "text": [
            "0\n",
            "163.47885131835938\n"
          ]
        }
      ]
    },
    {
      "cell_type": "code",
      "source": [
        "y_pred = np.zeros(m)\n",
        "for i in range(m):\n",
        "  y_pred[i] = predict(vector[i],phi,phiy)"
      ],
      "metadata": {
        "id": "rBtNVfvcc3xc"
      },
      "execution_count": 34,
      "outputs": []
    },
    {
      "cell_type": "code",
      "source": [
        "y_pred"
      ],
      "metadata": {
        "colab": {
          "base_uri": "https://localhost:8080/"
        },
        "id": "92Iww4RziKXA",
        "outputId": "1d398be2-9f0a-447f-fe65-5105eb070307"
      },
      "execution_count": 35,
      "outputs": [
        {
          "output_type": "execute_result",
          "data": {
            "text/plain": [
              "array([0., 2., 2., ..., 0., 1., 0.])"
            ]
          },
          "metadata": {},
          "execution_count": 35
        }
      ]
    },
    {
      "cell_type": "code",
      "source": [
        "from sklearn.metrics import accuracy_score, confusion_matrix, classification_report\n",
        "accuracy = accuracy_score(y, y_pred)\n",
        "\n",
        "print(f'Accuracy: {accuracy:.4f}')\n",
        "\n",
        "# Confusion matrix\n",
        "conf_matrix = confusion_matrix(y, y_pred)\n",
        "print('\\nConfusion Matrix:')\n",
        "print(conf_matrix)\n",
        "\n",
        "# Classification report\n",
        "class_report = classification_report(y, y_pred)\n",
        "print('\\nClassification Report:')\n",
        "print(class_report)\n",
        "\n"
      ],
      "metadata": {
        "colab": {
          "base_uri": "https://localhost:8080/"
        },
        "id": "3OJgBu7GeV5E",
        "outputId": "efd828f6-eaa6-42cb-bb1d-56c5bd534e9e"
      },
      "execution_count": 36,
      "outputs": [
        {
          "output_type": "stream",
          "name": "stdout",
          "text": [
            "Accuracy: 0.8015\n",
            "\n",
            "Confusion Matrix:\n",
            "[[14725   280  1597]\n",
            " [ 2035  3794  1267]\n",
            " [ 2052   285 11829]]\n",
            "\n",
            "Classification Report:\n",
            "              precision    recall  f1-score   support\n",
            "\n",
            "           0       0.78      0.89      0.83     16602\n",
            "           1       0.87      0.53      0.66      7096\n",
            "           2       0.81      0.84      0.82     14166\n",
            "\n",
            "    accuracy                           0.80     37864\n",
            "   macro avg       0.82      0.75      0.77     37864\n",
            "weighted avg       0.81      0.80      0.80     37864\n",
            "\n"
          ]
        }
      ]
    }
  ]
}