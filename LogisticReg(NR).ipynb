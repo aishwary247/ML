{
  "nbformat": 4,
  "nbformat_minor": 0,
  "metadata": {
    "colab": {
      "provenance": [],
      "authorship_tag": "ABX9TyPe13G7WeIfvYyiAcMeF7xe",
      "include_colab_link": true
    },
    "kernelspec": {
      "name": "python3",
      "display_name": "Python 3"
    },
    "language_info": {
      "name": "python"
    }
  },
  "cells": [
    {
      "cell_type": "markdown",
      "metadata": {
        "id": "view-in-github",
        "colab_type": "text"
      },
      "source": [
        "<a href=\"https://colab.research.google.com/github/aishwary247/ML/blob/main/LogisticReg(NR).ipynb\" target=\"_parent\"><img src=\"https://colab.research.google.com/assets/colab-badge.svg\" alt=\"Open In Colab\"/></a>"
      ]
    },
    {
      "cell_type": "markdown",
      "source": [
        "#Logistic Regression using Newton's Method"
      ],
      "metadata": {
        "id": "RoOrkLle4ZPM"
      }
    },
    {
      "cell_type": "code",
      "source": [
        "import numpy as np\n",
        "import pandas as pd\n",
        "import matplotlib.pyplot as plt\n",
        "import math"
      ],
      "metadata": {
        "id": "_u4q-HgJeeGo"
      },
      "execution_count": null,
      "outputs": []
    },
    {
      "cell_type": "code",
      "source": [
        "df_X = pd.read_csv('/content/logisticX.csv')\n",
        "df_y = pd.read_csv('/content/logisticY.csv')"
      ],
      "metadata": {
        "id": "47iWPU2zhLuf"
      },
      "execution_count": null,
      "outputs": []
    },
    {
      "cell_type": "code",
      "source": [
        "X = df_X.to_numpy()\n",
        "y = df_y.to_numpy()\n",
        "X.shape, y.shape"
      ],
      "metadata": {
        "colab": {
          "base_uri": "https://localhost:8080/"
        },
        "id": "sCkYtDo3hhJg",
        "outputId": "6fe9d103-3e47-475c-e8c0-43d3985b317b"
      },
      "execution_count": null,
      "outputs": [
        {
          "output_type": "execute_result",
          "data": {
            "text/plain": [
              "((99, 2), (99, 1))"
            ]
          },
          "metadata": {},
          "execution_count": 75
        }
      ]
    },
    {
      "cell_type": "code",
      "source": [
        "#normalising\n",
        "mean1 = np.mean(X[:,0])\n",
        "std1 = np.std(X[:,0])\n",
        "mean2 = np.mean(X[:,1])\n",
        "std2 = np.std(X[:,1])\n",
        "\n",
        "X[:,0] = (X[:,0]-mean1)/std1\n",
        "X[:,1] = (X[:,1]-mean2)/std2\n"
      ],
      "metadata": {
        "id": "v9CapYFx0WMJ"
      },
      "execution_count": null,
      "outputs": []
    },
    {
      "cell_type": "code",
      "source": [
        "X[:5]"
      ],
      "metadata": {
        "colab": {
          "base_uri": "https://localhost:8080/"
        },
        "id": "WXzRHwmP1GMk",
        "outputId": "8b175117-cfde-40a2-befa-bd8b41e7ae4a"
      },
      "execution_count": null,
      "outputs": [
        {
          "output_type": "execute_result",
          "data": {
            "text/plain": [
              "array([[-0.70739532,  1.49166385],\n",
              "       [-1.39759229,  2.13781242],\n",
              "       [-1.14266896,  0.89423113],\n",
              "       [-1.28516611,  0.64964747],\n",
              "       [-0.72243081,  1.37364094]])"
            ]
          },
          "metadata": {},
          "execution_count": 77
        }
      ]
    },
    {
      "cell_type": "code",
      "source": [
        "ones = np.ones((99,1))\n",
        "X = np.hstack((ones,X))\n",
        "X.shape, X[:5]"
      ],
      "metadata": {
        "colab": {
          "base_uri": "https://localhost:8080/"
        },
        "id": "PznRbrsIh1Ie",
        "outputId": "1607d885-10d6-4798-ee7e-1ddc27d8022a"
      },
      "execution_count": null,
      "outputs": [
        {
          "output_type": "execute_result",
          "data": {
            "text/plain": [
              "((99, 3),\n",
              " array([[ 1.        , -0.70739532,  1.49166385],\n",
              "        [ 1.        , -1.39759229,  2.13781242],\n",
              "        [ 1.        , -1.14266896,  0.89423113],\n",
              "        [ 1.        , -1.28516611,  0.64964747],\n",
              "        [ 1.        , -0.72243081,  1.37364094]]))"
            ]
          },
          "metadata": {},
          "execution_count": 78
        }
      ]
    },
    {
      "cell_type": "code",
      "source": [
        "theta = np.array([[1],[2],[3]])"
      ],
      "metadata": {
        "id": "_dzrqiepfm3y"
      },
      "execution_count": null,
      "outputs": []
    },
    {
      "cell_type": "code",
      "source": [
        "def h(theta,X):\n",
        "  var = np.matmul(X,theta)\n",
        "  return 1/(1+np.exp(-var))"
      ],
      "metadata": {
        "id": "so1k69jprJS4"
      },
      "execution_count": null,
      "outputs": []
    },
    {
      "cell_type": "code",
      "source": [
        "def gradient(theta,X,y):\n",
        "  return np.matmul(X.T, (h(theta,X)-y))"
      ],
      "metadata": {
        "id": "IBBD9qNkWTLZ"
      },
      "execution_count": null,
      "outputs": []
    },
    {
      "cell_type": "code",
      "source": [
        "def llhood(theta,X,y):\n",
        "  return y.T @ np.log(h(theta,X)) + (1-y).T @ np.log(1-h(theta,X))"
      ],
      "metadata": {
        "id": "kwbv6fAubDjL"
      },
      "execution_count": null,
      "outputs": []
    },
    {
      "cell_type": "code",
      "source": [
        "def hessian(theta,X):\n",
        "  return X.T @ (h(theta,X)*((1-h(theta,X))*X))"
      ],
      "metadata": {
        "id": "T5mU49CJYrI0"
      },
      "execution_count": null,
      "outputs": []
    },
    {
      "cell_type": "code",
      "source": [
        "def Newton_method(theta,X,y,epochs,b_con):\n",
        "  epoch = 0\n",
        "  while True :\n",
        "\n",
        "    cost = llhood(theta,X,y)\n",
        "    theta = theta - np.linalg.inv(hessian(theta,X)) @ gradient(theta,X,y)\n",
        "\n",
        "    new_cost = llhood(theta,X,y)\n",
        "    if abs(new_cost- cost)< b_con :\n",
        "      break\n",
        "\n",
        "    epoch += 1\n",
        "    print(\"epoch: \" + str(epoch), end = \" \")\n",
        "    print(cost)\n",
        "\n",
        "    if epoch == epochs :\n",
        "      break\n",
        "\n",
        "    cost = new_cost\n",
        "\n",
        "  return theta"
      ],
      "metadata": {
        "id": "ECp18n0dZyXH"
      },
      "execution_count": null,
      "outputs": []
    },
    {
      "cell_type": "code",
      "source": [
        "theta_t = [[0],[0],[0]]"
      ],
      "metadata": {
        "id": "yAgBVFMpdWRd"
      },
      "execution_count": null,
      "outputs": []
    },
    {
      "cell_type": "code",
      "source": [
        "theta = Newton_method(theta_t, X,y,10,1e-10)"
      ],
      "metadata": {
        "colab": {
          "base_uri": "https://localhost:8080/"
        },
        "id": "Ulj_cDpJdPud",
        "outputId": "2739ab2d-0542-4af2-fc4c-17a0d51b65b0"
      },
      "execution_count": null,
      "outputs": [
        {
          "output_type": "stream",
          "name": "stdout",
          "text": [
            "epoch: 1 [[-68.62157088]]\n",
            "epoch: 2 [[-32.88441667]]\n",
            "epoch: 3 [[-25.20105278]]\n",
            "epoch: 4 [[-22.794917]]\n",
            "epoch: 5 [[-22.33594005]]\n",
            "epoch: 6 [[-22.3082628]]\n",
            "epoch: 7 [[-22.30811739]]\n"
          ]
        }
      ]
    },
    {
      "cell_type": "code",
      "source": [
        "theta"
      ],
      "metadata": {
        "colab": {
          "base_uri": "https://localhost:8080/"
        },
        "id": "ri7L9rLdg0v8",
        "outputId": "ec774f72-a436-4bef-b76a-25bffa2eddd0"
      },
      "execution_count": null,
      "outputs": [
        {
          "output_type": "execute_result",
          "data": {
            "text/plain": [
              "array([[ 0.46722676],\n",
              "       [ 2.55770122],\n",
              "       [-2.78143761]])"
            ]
          },
          "metadata": {},
          "execution_count": 98
        }
      ]
    },
    {
      "cell_type": "code",
      "source": [
        "len(y)"
      ],
      "metadata": {
        "colab": {
          "base_uri": "https://localhost:8080/"
        },
        "id": "L02uCG7XjZ_E",
        "outputId": "0b36e44b-5dcc-4aab-fcfe-6887b4488265"
      },
      "execution_count": null,
      "outputs": [
        {
          "output_type": "execute_result",
          "data": {
            "text/plain": [
              "99"
            ]
          },
          "metadata": {},
          "execution_count": 99
        }
      ]
    },
    {
      "cell_type": "code",
      "source": [
        "x1_y0 = [X[i][1] for i in range(len(y)) if y[i][0]== 0 ]\n",
        "x2_y0 = [X[i][2] for i in range(len(y)) if y[i][0]== 0 ]\n",
        "x1_y1 = [X[i][1] for i in range(len(y)) if y[i][0]== 1 ]\n",
        "x2_y1 = [X[i][2] for i in range(len(y)) if y[i][0]== 1 ]\n",
        "\n",
        "len(x1_y0), len(x2_y0), len(x1_y1), len(x2_y1)\n",
        "\n",
        "\n"
      ],
      "metadata": {
        "colab": {
          "base_uri": "https://localhost:8080/"
        },
        "id": "2zEX0X4Sg2H7",
        "outputId": "cf7d39c9-55fd-4ea7-f10a-912b181a0415"
      },
      "execution_count": null,
      "outputs": [
        {
          "output_type": "execute_result",
          "data": {
            "text/plain": [
              "(49, 49, 50, 50)"
            ]
          },
          "metadata": {},
          "execution_count": 100
        }
      ]
    },
    {
      "cell_type": "code",
      "source": [
        "plt.scatter(x1_y0, x2_y0, marker='x', color='red', label = 'y=0')\n",
        "plt.scatter(x1_y1, x2_y1, marker='o', color='green', label = 'y=1')\n",
        "\n",
        "xvalues = np.arange(-2,2,0.1)\n",
        "yvalues = -(theta[0]+theta[1]*xvalues)/theta[2]\n",
        "plt.plot(xvalues,yvalues, color = 'blue' ,label=\"DecisionBoundary\" )\n",
        "plt.xlabel('x1')\n",
        "plt.ylabel('x2')\n",
        "\n",
        "plt.legend()\n",
        "plt.show()"
      ],
      "metadata": {
        "colab": {
          "base_uri": "https://localhost:8080/",
          "height": 449
        },
        "id": "WbiuCAxfj38D",
        "outputId": "7b9ced86-fe60-4612-c859-53b2df5a0db8"
      },
      "execution_count": null,
      "outputs": [
        {
          "output_type": "display_data",
          "data": {
            "text/plain": [
              "<Figure size 640x480 with 1 Axes>"
            ],
            "image/png": "[encoded data removed]"
          },
          "metadata": {}
        }
      ]
    }
  ]
}